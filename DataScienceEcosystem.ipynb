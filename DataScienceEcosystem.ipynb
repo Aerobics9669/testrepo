{
 "cells": [
  {
   "cell_type": "markdown",
   "id": "e06bfa81-b5f6-4deb-90f1-d7f4bc883a9e",
   "metadata": {},
   "source": [
    "# Data Science Tools and Ecosystem"
   ]
  },
  {
   "cell_type": "markdown",
   "id": "c6b7f755-5991-4fdb-9298-b0beb8a3e21f",
   "metadata": {},
   "source": [
    "In this notebook, Data Science Tools and Ecosystem are summarized."
   ]
  },
  {
   "cell_type": "markdown",
   "id": "c96cc72d-1943-4e54-841a-d232a544aea2",
   "metadata": {},
   "source": [
    "Some of the popular languages that Data Scientists use are:\n",
    "1. Python\n",
    "1. R \n",
    "1. SQL"
   ]
  },
  {
   "cell_type": "markdown",
   "id": "c0c2957b-2937-4ecd-96c8-15f41bc8fd45",
   "metadata": {},
   "source": [
    "Some of the commonly used libraries used by Data Scientists include:\n",
    "1. SciKit-Learn\n",
    "1. PyTorch\n",
    "1. Tensorflow"
   ]
  },
  {
   "cell_type": "markdown",
   "id": "7696e37f-fa15-4a32-a39e-67ae34f1fc36",
   "metadata": {},
   "source": [
    "| Data Science Tools |\n",
    "| ---- |\n",
    "| RStudio |\n",
    "| Apache Spark |\n",
    "| RapidMiner |"
   ]
  },
  {
   "cell_type": "markdown",
   "id": "bf1dbad9-e756-4cd4-b056-b4d55888bc7e",
   "metadata": {},
   "source": [
    "Below are a few examples of evaluating arithmetic expressions in Python. "
   ]
  },
  {
   "cell_type": "code",
   "execution_count": 1,
   "id": "327d53f4-1f4b-459f-a376-55e622e2f43b",
   "metadata": {},
   "outputs": [
    {
     "data": {
      "text/plain": [
       "17"
      ]
     },
     "execution_count": 1,
     "metadata": {},
     "output_type": "execute_result"
    }
   ],
   "source": [
    "# This is a simple arithmetic expresssion to multiply then add intergers\n",
    "(3*4)+5"
   ]
  },
  {
   "cell_type": "code",
   "execution_count": 7,
   "id": "3b835964-3601-4c80-8119-719fc1f4d01d",
   "metadata": {},
   "outputs": [
    {
     "name": "stdout",
     "output_type": "stream",
     "text": [
      "3:20:00\n"
     ]
    }
   ],
   "source": [
    "# This will convert 200 minutes to hours by dividing by 60\n",
    "def convert(seconds):\n",
    "    seconds = seconds % (24 * 3600)\n",
    "    hour = seconds // 3600\n",
    "    seconds %= 3600\n",
    "    minutes = seconds // 60\n",
    "    seconds %= 60\n",
    "     \n",
    "    return \"%d:%02d:%02d\" % (hour, minutes, seconds)\n",
    "     \n",
    "# Driver program\n",
    "n = 200*60\n",
    "print(convert(n))\n"
   ]
  },
  {
   "cell_type": "markdown",
   "id": "ba51b902-09ba-4167-aa38-a2715e2b7511",
   "metadata": {},
   "source": [
    "**Objectives:**\n",
    "- Learn data science \n",
    "- List popular languages for data science \n",
    "- Learn R"
   ]
  },
  {
   "cell_type": "markdown",
   "id": "9dc55bf9-3011-4d61-acdc-308572318bc4",
   "metadata": {},
   "source": [
    "## Author \n",
    "Darcy"
   ]
  }
 ],
 "metadata": {
  "kernelspec": {
   "display_name": "Python",
   "language": "python",
   "name": "conda-env-python-py"
  },
  "language_info": {
   "codemirror_mode": {
    "name": "ipython",
    "version": 3
   },
   "file_extension": ".py",
   "mimetype": "text/x-python",
   "name": "python",
   "nbconvert_exporter": "python",
   "pygments_lexer": "ipython3",
   "version": "3.7.12"
  }
 },
 "nbformat": 4,
 "nbformat_minor": 5
}
